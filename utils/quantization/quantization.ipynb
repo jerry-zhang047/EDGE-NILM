{
 "cells": [
  {
   "attachments": {},
   "cell_type": "markdown",
   "metadata": {},
   "source": [
    "Run *quantizer.py* to quantize the model from FP32 to INT8"
   ]
  },
  {
   "cell_type": "code",
   "execution_count": 13,
   "metadata": {},
   "outputs": [
    {
     "name": "stderr",
     "output_type": "stream",
     "text": [
      "Closing remaining open files:C:\\Users\\zhang\\AppData\\Local\\Temp\\nilmtk-zkij98jc.h5...done\n"
     ]
    }
   ],
   "source": [
    "!python quantizer.py"
   ]
  },
  {
   "attachments": {},
   "cell_type": "markdown",
   "metadata": {},
   "source": [
    "The program will generate a quantized model and save it under the *run/* directory.\n",
    "\n",
    "The original model size is **1654KB**, whereas the quantized model size is **425KB**, which is about **4x** smaller."
   ]
  }
 ],
 "metadata": {
  "kernelspec": {
   "display_name": "nilmtk-env",
   "language": "python",
   "name": "python3"
  },
  "language_info": {
   "codemirror_mode": {
    "name": "ipython",
    "version": 3
   },
   "file_extension": ".py",
   "mimetype": "text/x-python",
   "name": "python",
   "nbconvert_exporter": "python",
   "pygments_lexer": "ipython3",
   "version": "3.8.13"
  },
  "orig_nbformat": 4
 },
 "nbformat": 4,
 "nbformat_minor": 2
}
